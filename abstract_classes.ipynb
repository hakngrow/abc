{
 "cells": [
  {
   "cell_type": "markdown",
   "metadata": {},
   "source": [
    "### Abstract Base Classes in Python"
   ]
  },
  {
   "cell_type": "code",
   "execution_count": 1,
   "metadata": {},
   "outputs": [],
   "source": [
    "import pandas as pd\n",
    "from abc import ABCMeta, abstractmethod"
   ]
  },
  {
   "cell_type": "code",
   "execution_count": 2,
   "metadata": {},
   "outputs": [],
   "source": [
    "class AbstractClassCSV(metaclass=ABCMeta):\n",
    "\n",
    "    def __init__(self, path, file_name):\n",
    "\n",
    "        self._path = path\n",
    "        self._file_name = file_name\n",
    "\n",
    "    @property\n",
    "    @abstractmethod\n",
    "    def path(self):\n",
    "        pass\n",
    "\n",
    "    @path.setter\n",
    "    @abstractmethod\n",
    "    def path(self, value):\n",
    "        pass\n",
    "\n",
    "    @property\n",
    "    @abstractmethod\n",
    "    def file_name(self):\n",
    "        pass\n",
    "\n",
    "    @file_name.setter\n",
    "    @abstractmethod\n",
    "    def file_name(self, value):\n",
    "        pass\n",
    "\n",
    "    @abstractmethod\n",
    "    def display_summary(self):\n",
    "        pass"
   ]
  },
  {
   "cell_type": "code",
   "execution_count": 3,
   "metadata": {},
   "outputs": [],
   "source": [
    "class CSVGetInfo(AbstractClassCSV):\n",
    "    \"\"\"\n",
    "    This class displays the summary of the tabular data contained in a CSV file.\n",
    "    \"\"\"\n",
    "\n",
    "    @property\n",
    "    def path(self):\n",
    "        \"\"\"\n",
    "        The docstring for the path property\n",
    "        \"\"\"\n",
    "        print('Getting value of path')\n",
    "        return self._path\n",
    "\n",
    "    @path.setter\n",
    "    def path(self, value):\n",
    "        if '/' in value:\n",
    "            self._path = value\n",
    "            print('Setting value of path to {}'.format(value))\n",
    "        else:\n",
    "            print('Error: {} is not a valid path string'.format(value))\n"
   ]
  },
  {
   "cell_type": "code",
   "execution_count": 4,
   "metadata": {
    "scrolled": true
   },
   "outputs": [
    {
     "ename": "TypeError",
     "evalue": "Can't instantiate abstract class CSVGetInfo with abstract methods display_summary, file_name",
     "output_type": "error",
     "traceback": [
      "\u001b[1;31m---------------------------------------------------------------------------\u001b[0m",
      "\u001b[1;31mTypeError\u001b[0m                                 Traceback (most recent call last)",
      "\u001b[1;32m<ipython-input-4-10506b92a390>\u001b[0m in \u001b[0;36m<module>\u001b[1;34m\u001b[0m\n\u001b[1;32m----> 1\u001b[1;33m \u001b[0mcsv_info\u001b[0m \u001b[1;33m=\u001b[0m \u001b[0mCSVGetInfo\u001b[0m\u001b[1;33m(\u001b[0m\u001b[1;34m'data/'\u001b[0m\u001b[1;33m,\u001b[0m \u001b[1;34m'ge.us.csv'\u001b[0m\u001b[1;33m)\u001b[0m\u001b[1;33m\u001b[0m\u001b[1;33m\u001b[0m\u001b[0m\n\u001b[0m",
      "\u001b[1;31mTypeError\u001b[0m: Can't instantiate abstract class CSVGetInfo with abstract methods display_summary, file_name"
     ]
    }
   ],
   "source": [
    "csv_info = CSVGetInfo('data/', 'ge.us.csv')"
   ]
  },
  {
   "cell_type": "code",
   "execution_count": 8,
   "metadata": {},
   "outputs": [],
   "source": [
    "class CSVGetInfo(AbstractClassCSV):\n",
    "    \"\"\"\n",
    "    This class displays the summary of the tabular data contained in a CSV file.\n",
    "    \"\"\"\n",
    "\n",
    "    @property\n",
    "    def path(self):\n",
    "        \"\"\"\n",
    "        The docstring for the path property\n",
    "        \"\"\"\n",
    "        print('Getting value of path')\n",
    "        return self._path\n",
    "\n",
    "    @path.setter\n",
    "    def path(self, value):\n",
    "        if '/' in value:\n",
    "            self._path = value\n",
    "            print('Setting value of path to {}'.format(value))\n",
    "        else:\n",
    "            print('Error: {} is not a valid path string'.format(value))\n",
    "\n",
    "    @property\n",
    "    def file_name(self):\n",
    "        \"\"\"\n",
    "        The docstring for the file_name property\n",
    "        \"\"\"\n",
    "        print('Getting the value of file_name')\n",
    "        return self._file_name\n",
    "\n",
    "    @file_name.setter\n",
    "    def file_name(self, value):\n",
    "        if '.' in value:\n",
    "            self._file_name = value\n",
    "            print('Setting the value of file_name to {}'.format(value))\n",
    "        else:\n",
    "            print('Error: {} is not a valid file name'.format(value))\n",
    "\n",
    "    def display_summary(self):\n",
    "        data = pd.read_csv(self._path + self._file_name)\n",
    "        print(self._file_name)\n",
    "        print(data.info())\n",
    "        \"\"\"\n",
    "        The docstring for the file_name property\n",
    "        \"\"\"\n",
    "        print('Getting the value of file_name')\n",
    "        return self._file_name\n",
    "\n",
    "    @file_name.setter\n",
    "    def file_name(self, value):\n",
    "        if '.' in value:\n",
    "            self._file_name = value\n",
    "            print('Setting the value of file_name to {}'.format(value))\n",
    "        else:\n",
    "            print('Error: {} is not a valid file name'.format(value))\n",
    "\n",
    "    def display_summary(self):\n",
    "        data = pd.read_csv(self._path + self._file_name)\n",
    "        print(self._file_name)\n",
    "        print(data.info())"
   ]
  },
  {
   "cell_type": "code",
   "execution_count": 10,
   "metadata": {},
   "outputs": [
    {
     "name": "stdout",
     "output_type": "stream",
     "text": [
      "ge.us.csv\n",
      "<class 'pandas.core.frame.DataFrame'>\n",
      "RangeIndex: 14058 entries, 0 to 14057\n",
      "Data columns (total 7 columns):\n",
      "Date       14058 non-null object\n",
      "Open       14058 non-null float64\n",
      "High       14058 non-null float64\n",
      "Low        14058 non-null float64\n",
      "Close      14058 non-null float64\n",
      "Volume     14058 non-null int64\n",
      "OpenInt    14058 non-null int64\n",
      "dtypes: float64(4), int64(2), object(1)\n",
      "memory usage: 768.9+ KB\n",
      "None\n"
     ]
    }
   ],
   "source": [
    "csv_info = CSVGetInfo('data/', 'ge.us.csv')\n",
    "\n",
    "csv_info.display_summary()"
   ]
  }
 ],
 "metadata": {
  "kernelspec": {
   "display_name": "Python 3",
   "language": "python",
   "name": "python3"
  },
  "language_info": {
   "codemirror_mode": {
    "name": "ipython",
    "version": 3
   },
   "file_extension": ".py",
   "mimetype": "text/x-python",
   "name": "python",
   "nbconvert_exporter": "python",
   "pygments_lexer": "ipython3",
   "version": "3.7.4"
  }
 },
 "nbformat": 4,
 "nbformat_minor": 2
}
